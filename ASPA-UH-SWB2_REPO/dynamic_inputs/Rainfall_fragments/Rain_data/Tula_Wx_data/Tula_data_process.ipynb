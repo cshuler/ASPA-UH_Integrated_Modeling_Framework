{
 "cells": [
  {
   "cell_type": "code",
   "execution_count": 1,
   "metadata": {},
   "outputs": [
    {
     "data": {
      "text/html": [
       "\n",
       "<style>\n",
       "    div#notebook-container    { width: 85%; }     div#menubar-container     { width: 85%; }    div#maintoolbar-container { width: 99%; } </style> "
      ],
      "text/plain": [
       "<IPython.core.display.HTML object>"
      ]
     },
     "metadata": {},
     "output_type": "display_data"
    }
   ],
   "source": [
    "# make the screen bigger!\n",
    "\n",
    "from IPython.display import display, HTML\n",
    "\n",
    "display(HTML(data=\"\"\"\n",
    "<style>\n",
    "    div#notebook-container    { width: 85%; }     div#menubar-container     { width: 85%; }    div#maintoolbar-container { width: 99%; } </style> \"\"\"))"
   ]
  },
  {
   "cell_type": "code",
   "execution_count": 3,
   "metadata": {},
   "outputs": [],
   "source": [
    "# import all our libraries (if this cell throws an error you may need to reinstall a library)\n",
    "import os\n",
    "import pandas as pd\n",
    "import matplotlib.pyplot as plt\n",
    "import numpy as np\n",
    "from datetime import date, datetime, timedelta\n",
    "import datetime\n",
    "\n",
    "\n",
    "%matplotlib notebook\n",
    "\n",
    "#change this home directory to whatever the project home directroy is on any other computer \n",
    "homedir = (r\"C:\\Users\\cshuler\\Desktop\\GitHub\\Tutuila_SWB2\\Tutuila\\Scripts\\Rainfall_processing\\Rain_fragmets_MASTER\\Rain_data\\Tula_Wx_data\")\n",
    "desktop = (r\"C:\\Users\\cshuler\\Desktop\")\n",
    "\n",
    "path_raw_data = ('Tula_raw')"
   ]
  },
  {
   "cell_type": "code",
   "execution_count": 4,
   "metadata": {
    "scrolled": true
   },
   "outputs": [],
   "source": [
    "files = os.listdir(path_raw_data)\n",
    "cols = ['SITE CODE', 'YEAR', 'MONTH', 'DAY', 'HOUR', 'WND', 'WNS_mpsec', 'WND_STEADY', 'BAR_p', 'TMP_2m', 'TMP_10m', 'TMP_top', 'HMD', 'PRECIP_mm']\n",
    "na_values = ['-99', '-9', '-999', '-99.9', '-999.9']   #values to turn into NaN \n",
    "\n",
    "Tula_data =  pd.DataFrame(columns=cols)\n",
    "\n",
    "for i in files: \n",
    "    q = pd.read_csv(os.path.join(path_raw_data, i), delim_whitespace=True, names=cols, na_values=na_values)\n",
    "    Tula_data = pd.concat([Tula_data, q], axis=0)\n",
    "    \n",
    "Tula_data = Tula_data.reset_index(drop=True)                                # reset the row index to start from 0\n",
    "Tula_data['RNF'] =  Tula_data['PRECIP_mm'].apply(lambda x: x*0.0393701)     # convert rain in mm to rain in inches\n",
    "Tula_data['Date'] = Tula_data[['YEAR', 'MONTH', 'DAY', 'HOUR']].apply(lambda s : datetime.datetime(*s),axis = 1)\n",
    "\n",
    "# This is the group by day function \n",
    "Tula_day_rain = Tula_data.groupby(['SITE CODE', pd.Grouper(key='Date', freq='D')])['RNF'].sum() \n",
    "\n"
   ]
  },
  {
   "cell_type": "markdown",
   "metadata": {},
   "source": [
    "# Print the daily rainfall file to CSV"
   ]
  },
  {
   "cell_type": "code",
   "execution_count": 6,
   "metadata": {
    "scrolled": false
   },
   "outputs": [],
   "source": [
    "\n",
    "d_file = pd.DataFrame(Tula_day_rain)\n",
    "\n",
    "d_file =  d_file.reset_index()\n",
    "del d_file['SITE CODE']\n",
    "d_file.to_csv(\"Tula_day_rain_in.csv\")"
   ]
  },
  {
   "cell_type": "code",
   "execution_count": null,
   "metadata": {
    "collapsed": true
   },
   "outputs": [],
   "source": []
  }
 ],
 "metadata": {
  "kernelspec": {
   "display_name": "Python 3",
   "language": "python",
   "name": "python3"
  },
  "language_info": {
   "codemirror_mode": {
    "name": "ipython",
    "version": 3
   },
   "file_extension": ".py",
   "mimetype": "text/x-python",
   "name": "python",
   "nbconvert_exporter": "python",
   "pygments_lexer": "ipython3",
   "version": "3.6.4"
  }
 },
 "nbformat": 4,
 "nbformat_minor": 2
}
