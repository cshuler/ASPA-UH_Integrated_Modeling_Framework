{
 "cells": [
  {
   "cell_type": "code",
   "execution_count": 1,
   "metadata": {},
   "outputs": [
    {
     "name": "stdout",
     "output_type": "stream",
     "text": [
      "flopy is installed in C:\\Users\\cshuler\\Anaconda3\\envs\\ASPA_Framework\\lib\\site-packages\\flopy\n"
     ]
    }
   ],
   "source": [
    "import matplotlib.pyplot as plt\n",
    "import numpy as np\n",
    "from pyPCGA import PCGA\n",
    "import mf\n",
    "import math\n",
    "import datetime as dt\n",
    "import os\n",
    "\n",
    "np.set_printoptions(suppress=True)\n",
    "\n",
    "Lx = 1000.; Ly = 750.; Lz = 1; nlay = 1; nrow = 75; ncol = 100\n",
    "Q = 25.; Rch = 0.001\n",
    "ztop = 0.; zbot = -1."
   ]
  },
  {
   "cell_type": "code",
   "execution_count": 2,
   "metadata": {},
   "outputs": [],
   "source": [
    "N = np.array([ncol, nrow, nlay])\n",
    "m = np.prod(N)\n",
    "dx = np.array([10., 10., 1.])\n",
    "xmin = np.array([0. + dx[0] / 2., 0. + dx[1] / 2., 0. + dx[2] / 2.])\n",
    "xmax = np.array([Lx - dx[0] / 2., Ly - dx[1] / 2., Lz - dx[2] / 2.])"
   ]
  },
  {
   "cell_type": "code",
   "execution_count": 3,
   "metadata": {},
   "outputs": [],
   "source": [
    "prior_std = 1.0\n",
    "prior_cov_scale = np.array([250., 250., 1.])\n",
    "\n",
    "def kernel(r): return (prior_std ** 2) * np.exp(-r)"
   ]
  },
  {
   "cell_type": "code",
   "execution_count": 4,
   "metadata": {},
   "outputs": [],
   "source": [
    "if os.name == 'nt':\n",
    "    mf_exec = 'mf2005.exe'\n",
    "else:\n",
    "    mf_exec = 'mf2005'\n",
    "\n",
    "input_dir = \"./input_files\"\n",
    "sim_dir = './simul'"
   ]
  },
  {
   "cell_type": "code",
   "execution_count": 5,
   "metadata": {},
   "outputs": [],
   "source": [
    "obs_locmat = np.zeros((nlay, nrow, ncol), np.bool)\n",
    "for i in range(5, 71, 16):\n",
    "    for j in range(9, 96, 16):\n",
    "        obs_locmat[0, i, j] = 1"
   ]
  },
  {
   "cell_type": "code",
   "execution_count": 6,
   "metadata": {},
   "outputs": [],
   "source": [
    "x = np.linspace(0. + dx[0] / 2., Lx - dx[0] / 2., N[0])\n",
    "y = np.linspace(0. + dx[1] / 2., Ly - dx[1] / 2., N[1])\n",
    "XX, YY = np.meshgrid(x, y)\n",
    "pts = np.hstack((XX.ravel()[:, np.newaxis], YY.ravel()[:, np.newaxis]))"
   ]
  },
  {
   "cell_type": "code",
   "execution_count": 7,
   "metadata": {},
   "outputs": [
    {
     "data": {
      "text/plain": [
       "Text(0.5, 1.0, 'well locations')"
      ]
     },
     "execution_count": 7,
     "metadata": {},
     "output_type": "execute_result"
    },
    {
     "data": {
      "image/png": "[encoded data removed]",
      "text/plain": [
       "<Figure size 432x288 with 1 Axes>"
      ]
     },
     "metadata": {
      "needs_background": "light"
     },
     "output_type": "display_data"
    }
   ],
   "source": [
    "\n",
    "idx = np.where(obs_locmat == 1)\n",
    "for i,j in zip(idx[1],idx[2]):\n",
    "    plt.plot(x[j],y[i],'ko')\n",
    "plt.xlim(0,Lx)\n",
    "plt.ylim(0,Ly)\n",
    "plt.xlabel('x [m]')\n",
    "plt.ylabel('y [m]')\n",
    "plt.title('well locations')"
   ]
  },
  {
   "cell_type": "code",
   "execution_count": 8,
   "metadata": {},
   "outputs": [],
   "source": [
    "Q_locs_idx = np.where(obs_locmat == True)\n",
    "Q_locs = []\n",
    "for Q_loc in zip(Q_locs_idx[0], Q_locs_idx[1], Q_locs_idx[2]):\n",
    "    Q_locs.append(Q_loc)"
   ]
  },
  {
   "cell_type": "code",
   "execution_count": 9,
   "metadata": {},
   "outputs": [
    {
     "data": {
      "text/plain": [
       "Text(0.5, 1.0, 'true logK')"
      ]
     },
     "execution_count": 9,
     "metadata": {},
     "output_type": "execute_result"
    },
    {
     "data": {
      "image/png": "[encoded data removed]",
      "text/plain": [
       "<Figure size 432x288 with 1 Axes>"
      ]
     },
     "metadata": {
      "needs_background": "light"
     },
     "output_type": "display_data"
    }
   ],
   "source": [
    "s_true = np.loadtxt('true_logK.txt')\n",
    "s_true = np.array(s_true).reshape(-1, 1)  # make it 2D array\n",
    "s_true3d = s_true.reshape(nlay, nrow, ncol)\n",
    "s_true2d = s_true3d[0,:,:]\n",
    "plt.pcolormesh(XX,YY,s_true2d, cmap=plt.get_cmap('jet'))\n",
    "plt.title('true logK')"
   ]
  },
  {
   "cell_type": "code",
   "execution_count": 10,
   "metadata": {},
   "outputs": [],
   "source": [
    "obs = np.loadtxt('obs.txt')"
   ]
  },
  {
   "cell_type": "code",
   "execution_count": 11,
   "metadata": {},
   "outputs": [],
   "source": [
    "def forward_model(s, parallelization, ncores=None):\n",
    "    model = mf.Model(mf_params)\n",
    "\n",
    "    if parallelization:\n",
    "        simul_obs = model.run(s, parallelization, ncores)\n",
    "    else:\n",
    "        simul_obs = model.run(s, parallelization)\n",
    "    return simul_obs"
   ]
  },
  {
   "cell_type": "code",
   "execution_count": 12,
   "metadata": {},
   "outputs": [],
   "source": [
    "params = {'R': (0.5) ** 2, 'n_pc': 50,\n",
    "          'maxiter': 10, 'restol': 0.01,\n",
    "          'matvec': 'FFT', 'xmin': xmin, 'xmax': xmax, 'N': N,\n",
    "          'prior_std': prior_std, 'prior_cov_scale': prior_cov_scale,\n",
    "          'kernel': kernel, 'post_cov': \"diag\",\n",
    "          'precond': True, 'LM': True,\n",
    "          'parallel': True, 'linesearch': True,\n",
    "          'forward_model_verbose': False, 'verbose': False,\n",
    "          'iter_save': True}"
   ]
  },
  {
   "cell_type": "code",
   "execution_count": 13,
   "metadata": {},
   "outputs": [],
   "source": [
    "mf_params = {'mf_exec': mf_exec, 'input_dir': input_dir,\n",
    "          'sim_dir': sim_dir,\n",
    "          'Lx': Lx, 'Ly': Ly,\n",
    "          'Q': Q, 'Rch': Rch,\n",
    "          'nlay': nlay, 'nrow': nrow, 'ncol': ncol,\n",
    "          'zbot': zbot, 'ztop': ztop,\n",
    "          'obs_locmat': obs_locmat, 'Q_locs': Q_locs}"
   ]
  },
  {
   "cell_type": "code",
   "execution_count": 14,
   "metadata": {},
   "outputs": [],
   "source": [
    "\n",
    "s_init = np.ones((m, 1))"
   ]
  },
  {
   "cell_type": "code",
   "execution_count": null,
   "metadata": {},
   "outputs": [],
   "source": [
    "prob = PCGA(forward_model, s_init, pts, params, s_true, obs)"
   ]
  },
  {
   "cell_type": "code",
   "execution_count": 21,
   "metadata": {},
   "outputs": [
    {
     "ename": "TypeError",
     "evalue": "run() missing 1 required positional argument: 'par'",
     "output_type": "error",
     "traceback": [
      "\u001b[1;31m---------------------------------------------------------------------------\u001b[0m",
      "\u001b[1;31mTypeError\u001b[0m                                 Traceback (most recent call last)",
      "\u001b[1;32m<ipython-input-21-904fbaeee871>\u001b[0m in \u001b[0;36m<module>\u001b[1;34m\u001b[0m\n\u001b[0;32m      1\u001b[0m \u001b[0mmodel\u001b[0m \u001b[1;33m=\u001b[0m \u001b[0mmf\u001b[0m\u001b[1;33m.\u001b[0m\u001b[0mModel\u001b[0m\u001b[1;33m(\u001b[0m\u001b[0mmf_params\u001b[0m\u001b[1;33m)\u001b[0m\u001b[1;33m\u001b[0m\u001b[1;33m\u001b[0m\u001b[0m\n\u001b[1;32m----> 2\u001b[1;33m \u001b[0msimul_obs\u001b[0m \u001b[1;33m=\u001b[0m \u001b[0mmodel\u001b[0m\u001b[1;33m.\u001b[0m\u001b[0mrun\u001b[0m\u001b[1;33m(\u001b[0m\u001b[0ms_init\u001b[0m\u001b[1;33m)\u001b[0m\u001b[1;33m\u001b[0m\u001b[1;33m\u001b[0m\u001b[0m\n\u001b[0m",
      "\u001b[1;31mTypeError\u001b[0m: run() missing 1 required positional argument: 'par'"
     ]
    }
   ],
   "source": [
    "model = mf.Model(mf_params)\n",
    "simul_obs = model.run(s_init)"
   ]
  },
  {
   "cell_type": "code",
   "execution_count": 24,
   "metadata": {},
   "outputs": [
    {
     "data": {
      "text/plain": [
       "'3.2.12'"
      ]
     },
     "execution_count": 24,
     "metadata": {},
     "output_type": "execute_result"
    }
   ],
   "source": [
    "import flopy\n",
    "flopy.__version__\n"
   ]
  },
  {
   "cell_type": "code",
   "execution_count": null,
   "metadata": {},
   "outputs": [],
   "source": []
  }
 ],
 "metadata": {
  "kernelspec": {
   "display_name": "Python 3",
   "language": "python",
   "name": "python3"
  },
  "language_info": {
   "codemirror_mode": {
    "name": "ipython",
    "version": 3
   },
   "file_extension": ".py",
   "mimetype": "text/x-python",
   "name": "python",
   "nbconvert_exporter": "python",
   "pygments_lexer": "ipython3",
   "version": "3.7.3"
  }
 },
 "nbformat": 4,
 "nbformat_minor": 2
}
