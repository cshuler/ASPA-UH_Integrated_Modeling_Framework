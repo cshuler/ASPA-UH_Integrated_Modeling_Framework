{
 "cells": [
  {
   "cell_type": "code",
   "execution_count": 1,
   "metadata": {},
   "outputs": [
    {
     "name": "stdout",
     "output_type": "stream",
     "text": [
      "flopy is installed in C:\\Users\\cshuler\\Anaconda3\\envs\\ASPA_Framework\\lib\\site-packages\\flopy\n"
     ]
    }
   ],
   "source": [
    "%matplotlib  inline\n",
    "import matplotlib.pyplot as plt\n",
    "import numpy as np\n",
    "from pyPCGA import PCGA\n",
    "import mf\n",
    "import math\n",
    "import datetime as dt\n",
    "import pandas as pd  \n",
    "import flopy\n",
    "import flopy.utils.binaryfile as bf\n",
    "import os"
   ]
  },
  {
   "cell_type": "code",
   "execution_count": 2,
   "metadata": {},
   "outputs": [],
   "source": [
    "# params to pass to Model class\n",
    "delr = 169 \n",
    "delc = 165\n",
    "nlay = 1\n",
    "nrow = 100\n",
    "ncol = 200\n",
    "botm = -1250"
   ]
  },
  {
   "cell_type": "code",
   "execution_count": 3,
   "metadata": {},
   "outputs": [
    {
     "ename": "FileNotFoundError",
     "evalue": "[Errno 2] File b'..\\\\..\\\\Static_Data_Storage\\\\Ave_WL_MSL_m_mon_wells.csv' does not exist: b'..\\\\..\\\\Static_Data_Storage\\\\Ave_WL_MSL_m_mon_wells.csv'",
     "output_type": "error",
     "traceback": [
      "\u001b[1;31m---------------------------------------------------------------------------\u001b[0m",
      "\u001b[1;31mFileNotFoundError\u001b[0m                         Traceback (most recent call last)",
      "\u001b[1;32m<ipython-input-3-c897e068ac61>\u001b[0m in \u001b[0;36m<module>\u001b[1;34m\u001b[0m\n\u001b[0;32m      9\u001b[0m \u001b[1;33m\u001b[0m\u001b[0m\n\u001b[0;32m     10\u001b[0m \u001b[1;31m# Just stick on the data from the measured monitoring wells (it will average both values if repeated)\u001b[0m\u001b[1;33m\u001b[0m\u001b[1;33m\u001b[0m\u001b[1;33m\u001b[0m\u001b[0m\n\u001b[1;32m---> 11\u001b[1;33m \u001b[0mMon_well_WLs\u001b[0m \u001b[1;33m=\u001b[0m \u001b[0mpd\u001b[0m\u001b[1;33m.\u001b[0m\u001b[0mread_csv\u001b[0m\u001b[1;33m(\u001b[0m\u001b[0mMON_WELL_MEASUREMENT_SHEET\u001b[0m\u001b[1;33m)\u001b[0m\u001b[1;33m\u001b[0m\u001b[1;33m\u001b[0m\u001b[0m\n\u001b[0m\u001b[0;32m     12\u001b[0m \u001b[1;32mdel\u001b[0m \u001b[0mMon_well_WLs\u001b[0m\u001b[1;33m[\u001b[0m\u001b[1;34m'Well_num'\u001b[0m\u001b[1;33m]\u001b[0m\u001b[1;33m\u001b[0m\u001b[1;33m\u001b[0m\u001b[0m\n\u001b[0;32m     13\u001b[0m \u001b[0mPdevel_WLs\u001b[0m \u001b[1;33m=\u001b[0m \u001b[0mPdevel_WLs\u001b[0m\u001b[1;33m.\u001b[0m\u001b[0mappend\u001b[0m\u001b[1;33m(\u001b[0m\u001b[0mMon_well_WLs\u001b[0m\u001b[1;33m,\u001b[0m \u001b[0msort\u001b[0m\u001b[1;33m=\u001b[0m\u001b[1;32mFalse\u001b[0m\u001b[1;33m)\u001b[0m\u001b[1;33m\u001b[0m\u001b[1;33m\u001b[0m\u001b[0m\n",
      "\u001b[1;32m~\\Anaconda3\\envs\\ASPA_Framework\\lib\\site-packages\\pandas\\io\\parsers.py\u001b[0m in \u001b[0;36mparser_f\u001b[1;34m(filepath_or_buffer, sep, delimiter, header, names, index_col, usecols, squeeze, prefix, mangle_dupe_cols, dtype, engine, converters, true_values, false_values, skipinitialspace, skiprows, skipfooter, nrows, na_values, keep_default_na, na_filter, verbose, skip_blank_lines, parse_dates, infer_datetime_format, keep_date_col, date_parser, dayfirst, cache_dates, iterator, chunksize, compression, thousands, decimal, lineterminator, quotechar, quoting, doublequote, escapechar, comment, encoding, dialect, error_bad_lines, warn_bad_lines, delim_whitespace, low_memory, memory_map, float_precision)\u001b[0m\n\u001b[0;32m    683\u001b[0m         )\n\u001b[0;32m    684\u001b[0m \u001b[1;33m\u001b[0m\u001b[0m\n\u001b[1;32m--> 685\u001b[1;33m         \u001b[1;32mreturn\u001b[0m \u001b[0m_read\u001b[0m\u001b[1;33m(\u001b[0m\u001b[0mfilepath_or_buffer\u001b[0m\u001b[1;33m,\u001b[0m \u001b[0mkwds\u001b[0m\u001b[1;33m)\u001b[0m\u001b[1;33m\u001b[0m\u001b[1;33m\u001b[0m\u001b[0m\n\u001b[0m\u001b[0;32m    686\u001b[0m \u001b[1;33m\u001b[0m\u001b[0m\n\u001b[0;32m    687\u001b[0m     \u001b[0mparser_f\u001b[0m\u001b[1;33m.\u001b[0m\u001b[0m__name__\u001b[0m \u001b[1;33m=\u001b[0m \u001b[0mname\u001b[0m\u001b[1;33m\u001b[0m\u001b[1;33m\u001b[0m\u001b[0m\n",
      "\u001b[1;32m~\\Anaconda3\\envs\\ASPA_Framework\\lib\\site-packages\\pandas\\io\\parsers.py\u001b[0m in \u001b[0;36m_read\u001b[1;34m(filepath_or_buffer, kwds)\u001b[0m\n\u001b[0;32m    455\u001b[0m \u001b[1;33m\u001b[0m\u001b[0m\n\u001b[0;32m    456\u001b[0m     \u001b[1;31m# Create the parser.\u001b[0m\u001b[1;33m\u001b[0m\u001b[1;33m\u001b[0m\u001b[1;33m\u001b[0m\u001b[0m\n\u001b[1;32m--> 457\u001b[1;33m     \u001b[0mparser\u001b[0m \u001b[1;33m=\u001b[0m \u001b[0mTextFileReader\u001b[0m\u001b[1;33m(\u001b[0m\u001b[0mfp_or_buf\u001b[0m\u001b[1;33m,\u001b[0m \u001b[1;33m**\u001b[0m\u001b[0mkwds\u001b[0m\u001b[1;33m)\u001b[0m\u001b[1;33m\u001b[0m\u001b[1;33m\u001b[0m\u001b[0m\n\u001b[0m\u001b[0;32m    458\u001b[0m \u001b[1;33m\u001b[0m\u001b[0m\n\u001b[0;32m    459\u001b[0m     \u001b[1;32mif\u001b[0m \u001b[0mchunksize\u001b[0m \u001b[1;32mor\u001b[0m \u001b[0miterator\u001b[0m\u001b[1;33m:\u001b[0m\u001b[1;33m\u001b[0m\u001b[1;33m\u001b[0m\u001b[0m\n",
      "\u001b[1;32m~\\Anaconda3\\envs\\ASPA_Framework\\lib\\site-packages\\pandas\\io\\parsers.py\u001b[0m in \u001b[0;36m__init__\u001b[1;34m(self, f, engine, **kwds)\u001b[0m\n\u001b[0;32m    893\u001b[0m             \u001b[0mself\u001b[0m\u001b[1;33m.\u001b[0m\u001b[0moptions\u001b[0m\u001b[1;33m[\u001b[0m\u001b[1;34m\"has_index_names\"\u001b[0m\u001b[1;33m]\u001b[0m \u001b[1;33m=\u001b[0m \u001b[0mkwds\u001b[0m\u001b[1;33m[\u001b[0m\u001b[1;34m\"has_index_names\"\u001b[0m\u001b[1;33m]\u001b[0m\u001b[1;33m\u001b[0m\u001b[1;33m\u001b[0m\u001b[0m\n\u001b[0;32m    894\u001b[0m \u001b[1;33m\u001b[0m\u001b[0m\n\u001b[1;32m--> 895\u001b[1;33m         \u001b[0mself\u001b[0m\u001b[1;33m.\u001b[0m\u001b[0m_make_engine\u001b[0m\u001b[1;33m(\u001b[0m\u001b[0mself\u001b[0m\u001b[1;33m.\u001b[0m\u001b[0mengine\u001b[0m\u001b[1;33m)\u001b[0m\u001b[1;33m\u001b[0m\u001b[1;33m\u001b[0m\u001b[0m\n\u001b[0m\u001b[0;32m    896\u001b[0m \u001b[1;33m\u001b[0m\u001b[0m\n\u001b[0;32m    897\u001b[0m     \u001b[1;32mdef\u001b[0m \u001b[0mclose\u001b[0m\u001b[1;33m(\u001b[0m\u001b[0mself\u001b[0m\u001b[1;33m)\u001b[0m\u001b[1;33m:\u001b[0m\u001b[1;33m\u001b[0m\u001b[1;33m\u001b[0m\u001b[0m\n",
      "\u001b[1;32m~\\Anaconda3\\envs\\ASPA_Framework\\lib\\site-packages\\pandas\\io\\parsers.py\u001b[0m in \u001b[0;36m_make_engine\u001b[1;34m(self, engine)\u001b[0m\n\u001b[0;32m   1133\u001b[0m     \u001b[1;32mdef\u001b[0m \u001b[0m_make_engine\u001b[0m\u001b[1;33m(\u001b[0m\u001b[0mself\u001b[0m\u001b[1;33m,\u001b[0m \u001b[0mengine\u001b[0m\u001b[1;33m=\u001b[0m\u001b[1;34m\"c\"\u001b[0m\u001b[1;33m)\u001b[0m\u001b[1;33m:\u001b[0m\u001b[1;33m\u001b[0m\u001b[1;33m\u001b[0m\u001b[0m\n\u001b[0;32m   1134\u001b[0m         \u001b[1;32mif\u001b[0m \u001b[0mengine\u001b[0m \u001b[1;33m==\u001b[0m \u001b[1;34m\"c\"\u001b[0m\u001b[1;33m:\u001b[0m\u001b[1;33m\u001b[0m\u001b[1;33m\u001b[0m\u001b[0m\n\u001b[1;32m-> 1135\u001b[1;33m             \u001b[0mself\u001b[0m\u001b[1;33m.\u001b[0m\u001b[0m_engine\u001b[0m \u001b[1;33m=\u001b[0m \u001b[0mCParserWrapper\u001b[0m\u001b[1;33m(\u001b[0m\u001b[0mself\u001b[0m\u001b[1;33m.\u001b[0m\u001b[0mf\u001b[0m\u001b[1;33m,\u001b[0m \u001b[1;33m**\u001b[0m\u001b[0mself\u001b[0m\u001b[1;33m.\u001b[0m\u001b[0moptions\u001b[0m\u001b[1;33m)\u001b[0m\u001b[1;33m\u001b[0m\u001b[1;33m\u001b[0m\u001b[0m\n\u001b[0m\u001b[0;32m   1136\u001b[0m         \u001b[1;32melse\u001b[0m\u001b[1;33m:\u001b[0m\u001b[1;33m\u001b[0m\u001b[1;33m\u001b[0m\u001b[0m\n\u001b[0;32m   1137\u001b[0m             \u001b[1;32mif\u001b[0m \u001b[0mengine\u001b[0m \u001b[1;33m==\u001b[0m \u001b[1;34m\"python\"\u001b[0m\u001b[1;33m:\u001b[0m\u001b[1;33m\u001b[0m\u001b[1;33m\u001b[0m\u001b[0m\n",
      "\u001b[1;32m~\\Anaconda3\\envs\\ASPA_Framework\\lib\\site-packages\\pandas\\io\\parsers.py\u001b[0m in \u001b[0;36m__init__\u001b[1;34m(self, src, **kwds)\u001b[0m\n\u001b[0;32m   1904\u001b[0m         \u001b[0mkwds\u001b[0m\u001b[1;33m[\u001b[0m\u001b[1;34m\"usecols\"\u001b[0m\u001b[1;33m]\u001b[0m \u001b[1;33m=\u001b[0m \u001b[0mself\u001b[0m\u001b[1;33m.\u001b[0m\u001b[0musecols\u001b[0m\u001b[1;33m\u001b[0m\u001b[1;33m\u001b[0m\u001b[0m\n\u001b[0;32m   1905\u001b[0m \u001b[1;33m\u001b[0m\u001b[0m\n\u001b[1;32m-> 1906\u001b[1;33m         \u001b[0mself\u001b[0m\u001b[1;33m.\u001b[0m\u001b[0m_reader\u001b[0m \u001b[1;33m=\u001b[0m \u001b[0mparsers\u001b[0m\u001b[1;33m.\u001b[0m\u001b[0mTextReader\u001b[0m\u001b[1;33m(\u001b[0m\u001b[0msrc\u001b[0m\u001b[1;33m,\u001b[0m \u001b[1;33m**\u001b[0m\u001b[0mkwds\u001b[0m\u001b[1;33m)\u001b[0m\u001b[1;33m\u001b[0m\u001b[1;33m\u001b[0m\u001b[0m\n\u001b[0m\u001b[0;32m   1907\u001b[0m         \u001b[0mself\u001b[0m\u001b[1;33m.\u001b[0m\u001b[0munnamed_cols\u001b[0m \u001b[1;33m=\u001b[0m \u001b[0mself\u001b[0m\u001b[1;33m.\u001b[0m\u001b[0m_reader\u001b[0m\u001b[1;33m.\u001b[0m\u001b[0munnamed_cols\u001b[0m\u001b[1;33m\u001b[0m\u001b[1;33m\u001b[0m\u001b[0m\n\u001b[0;32m   1908\u001b[0m \u001b[1;33m\u001b[0m\u001b[0m\n",
      "\u001b[1;32mpandas/_libs/parsers.pyx\u001b[0m in \u001b[0;36mpandas._libs.parsers.TextReader.__cinit__\u001b[1;34m()\u001b[0m\n",
      "\u001b[1;32mpandas/_libs/parsers.pyx\u001b[0m in \u001b[0;36mpandas._libs.parsers.TextReader._setup_parser_source\u001b[1;34m()\u001b[0m\n",
      "\u001b[1;31mFileNotFoundError\u001b[0m: [Errno 2] File b'..\\\\..\\\\Static_Data_Storage\\\\Ave_WL_MSL_m_mon_wells.csv' does not exist: b'..\\\\..\\\\Static_Data_Storage\\\\Ave_WL_MSL_m_mon_wells.csv'"
     ]
    }
   ],
   "source": [
    "# Pre-development water levels spreadsheet. Compiled from drillers logs and pump tests\n",
    "# monitoring well data from this  integrated framework. \n",
    "MON_WELL_MEASUREMENT_SHEET = os.path.join(\"..\", \"..\", 'Static_Data_Storage', \"Ave_WL_MSL_m_mon_wells.csv\")\n",
    "PREDEVELOP_WLS_2_CSV = os.path.join(\"..\", \"..\", 'Static_Data_Storage', 'GIS','Predevelop_WLs_2.csv')\n",
    "Pdevel_WLs = pd.read_csv(PREDEVELOP_WLS_2_CSV)\n",
    "\n",
    "xll = 515244    # hard code too\n",
    "yll = 8410178\n",
    "\n",
    "# Just stick on the data from the measured monitoring wells (it will average both values if repeated)\n",
    "Mon_well_WLs = pd.read_csv(MON_WELL_MEASUREMENT_SHEET) \n",
    "del Mon_well_WLs['Well_num']\n",
    "Pdevel_WLs = Pdevel_WLs.append(Mon_well_WLs, sort=False)\n",
    "\n",
    "Pdevel_WLs['row_num'] = Pdevel_WLs['x_utm'].apply(lambda x_utm_val: math.ceil((x_utm_val-xll)/delr) )          # this formula calculates the column number based on the x coordinate \n",
    "Pdevel_WLs['col_num'] = Pdevel_WLs['y_utm'].apply(lambda y_utm_val: (1+nrow)-math.ceil((y_utm_val-yll)/delc) )   # this formula calculates the row number based on the y coordinate \n",
    "Pdevel_WLs['rowcol']  = list(zip(Pdevel_WLs.row_num, Pdevel_WLs.col_num))                                      # just make a tuplel of the row and col\n",
    "\n",
    "# This takes obs wells that occupy the same cell and averages them! \n",
    "Unique_WLs = Pdevel_WLs.groupby('rowcol', as_index=False).mean()                                               # Average the duplicate WLs that fall into a single cell, to get one \"observed\" water level for that cell \n",
    "\n",
    "# make new unique names for each obs point\n",
    "Unique_WLs[\"name\"] = \"Obs_\"+Unique_WLs.index.map(str)\n",
    "\n",
    "nobs = len(Unique_WLs['WL_m_MSL']) \n",
    "layervals = [0] * nobs\n",
    "rowvals = list(Unique_WLs['col_num'].astype(int))\n",
    "colvals = list(Unique_WLs['row_num'].astype(int))\n",
    "obsvals = list(Unique_WLs['WL_m_MSL'])\n",
    "obsnames = list(Unique_WLs[\"name\"])\n",
    "\n",
    "obs_locmat = np.asarray(obsvals)"
   ]
  },
  {
   "cell_type": "code",
   "execution_count": 73,
   "metadata": {},
   "outputs": [],
   "source": [
    "mf_params = {'layervals': layervals, 'rowvals': rowvals,\n",
    "          'colvals': colvals, 'obsvals':obsvals, 'obsnames':obsnames, 'nobs':nobs,\n",
    "          'delr': delr, 'delc': delc,\n",
    "          'nlay': nlay, 'nrow': nrow, 'ncol': ncol,\n",
    "          'botm': botm, 'obs_locmat': obs_locmat} "
   ]
  },
  {
   "cell_type": "code",
   "execution_count": 74,
   "metadata": {},
   "outputs": [],
   "source": [
    "def forward_model(s, parallelization, ncores=None):\n",
    "    model = mf.Model(mf_params)\n",
    "\n",
    "    if parallelization:\n",
    "        simul_obs = model.run(s, parallelization, ncores)\n",
    "    else:\n",
    "        simul_obs = model.run(s, parallelization)\n",
    "        \n",
    "    print(\"this is the array\".format(simul_obs))\n",
    "    return simul_obs"
   ]
  },
  {
   "cell_type": "code",
   "execution_count": 75,
   "metadata": {},
   "outputs": [],
   "source": [
    "## From Harrys code \n",
    "N = np.array([ncol, nrow, nlay])\n",
    "m = np.prod(N)\n",
    "Lx = delc*ncol\n",
    "Ly = delr*nrow\n",
    "Lz = abs(botm)\n",
    "dx = np.array([delc, delr, abs(botm)])\n",
    "xmin = np.array([0. + dx[0] / 2., 0. + dx[1] / 2., 0. + dx[2] / 2.])\n",
    "xmax = np.array([Lx - dx[0] / 2., Ly - dx[1] / 2., Lz - dx[2] / 2.])\n",
    "\n",
    "\n",
    "prior_std = 1.0\n",
    "prior_cov_scale = np.array([250., 250., 1.])\n",
    "\n",
    "def kernel(r): return (prior_std ** 2) * np.exp(-r)\n",
    "\n",
    "obs = obs_locmat\n",
    "\n",
    "\n",
    "params = {'R': (0.5) ** 2, 'n_pc': 50,\n",
    "          'maxiter': 10, 'restol': 0.01,\n",
    "          'matvec': 'FFT', 'xmin': xmin, 'xmax': xmax, 'N': N,\n",
    "          'prior_std': prior_std, 'prior_cov_scale': prior_cov_scale,\n",
    "          'kernel': kernel, 'post_cov': \"diag\",\n",
    "          'precond': True, 'LM': True,\n",
    "          'parallel': True, 'linesearch': True,\n",
    "          'forward_model_verbose': False, 'verbose': False,\n",
    "          'iter_save': True}\n",
    "\n",
    "\n",
    "s_init = np.ones((m, 1))\n",
    "\n",
    "\n",
    "x = np.linspace(0. + dx[0] / 2., Lx - dx[0] / 2., N[0])\n",
    "y = np.linspace(0. + dx[1] / 2., Ly - dx[1] / 2., N[1])\n",
    "XX, YY = np.meshgrid(x, y)\n",
    "pts = np.hstack((XX.ravel()[:, np.newaxis], YY.ravel()[:, np.newaxis]))"
   ]
  },
  {
   "cell_type": "code",
   "execution_count": 76,
   "metadata": {},
   "outputs": [
    {
     "name": "stdout",
     "output_type": "stream",
     "text": [
      "##### PCGA Inversion #####\n",
      "##### 1. Initialize forward and inversion parameters\n",
      "------------ Inversion Parameters -------------------------\n",
      "   Number of unknowns                               : 20000\n",
      "   Number of observations                           : 64\n",
      "   Number of principal components (n_pc)            : 50\n",
      "   Prior model                                      : def kernel(r): return (prior_std ** 2) * np.exp(-r)\n",
      "\n",
      "   Prior variance                                   : 1.000000e+00\n",
      "   Prior scale (correlation) parameter              : [250. 250.   1.]\n",
      "   Posterior cov computation                        : diag\n",
      "   Posterior variance computation                   : Direct\n",
      "   Number of CPU cores (n_core)                     : 4\n",
      "   Maximum GN iterations                            : 10\n",
      "   machine precision (delta = sqrt(precision))      : 1.000000e-08\n",
      "   Tol for iterations (norm(sol_diff)/norm(sol))    : 1.000000e-02\n",
      "   Levenberg-Marquardt (LM)                         : True\n",
      "   LM solution range constraints (LM_smin, LM_smax) : None, None\n",
      "   Line search                                      : True\n",
      "-----------------------------------------------------------\n"
     ]
    }
   ],
   "source": [
    "prob = PCGA(forward_model, s_init, pts, params, s_true=None, obs=obs)"
   ]
  },
  {
   "cell_type": "code",
   "execution_count": 77,
   "metadata": {
    "scrolled": false
   },
   "outputs": [
    {
     "name": "stdout",
     "output_type": "stream",
     "text": [
      "##### 2. Construct Prior Covariance Matrix\n",
      "- time for covariance matrix construction (m = 20000) is 0 sec\n",
      "##### 3. Eigendecomposition of Prior Covariance\n",
      "- time for eigendecomposition with k = 50 is 27 sec\n",
      "- 1st eigv : 14.1803, 50-th eigv : 12.746, ratio: 0.898852\n",
      "##### 4. Start PCGA Inversion #####\n",
      "-- evaluate initial solution\n",
      "obs. RMSE (norm(obs. diff.)/sqrt(nobs)): 11.1308, normalized obs. RMSE (norm(obs. diff./sqrtR)/sqrt(nobs)): 22.2616\n",
      "***** Iteration 1 ******\n",
      "computed Jacobian-Matrix products in 14.439656 secs\n",
      "solve saddle point (co-kriging) systems with Levenberg-Marquardt\n",
      "evaluate LM solutions\n",
      "LM solution evaluted\n",
      "- Geostat. inversion at iteration 1 is 17 sec\n",
      "== iteration 1 summary ==\n",
      "= objective function is 1.176980e+04, relative L2-norm diff btw sol 0 and sol 1 is 0.458568\n",
      "= obs. RMSE is 9.549, obs. normalized RMSE is 19.098\n",
      "- save results in text at iteration 1\n",
      "***** Iteration 2 ******\n",
      "computed Jacobian-Matrix products in 14.910822 secs\n",
      "solve saddle point (co-kriging) systems with Levenberg-Marquardt\n",
      "evaluate LM solutions\n",
      "LM solution evaluted\n",
      "- Geostat. inversion at iteration 2 is 17 sec\n",
      "== iteration 2 summary ==\n",
      "= objective function is 1.092046e+04, relative L2-norm diff btw sol 1 and sol 2 is 0.129033\n",
      "= obs. RMSE is 9.17743, obs. normalized RMSE is 18.3549\n",
      "- save results in text at iteration 2\n",
      "***** Iteration 3 ******\n",
      "computed Jacobian-Matrix products in 15.037187 secs\n",
      "solve saddle point (co-kriging) systems with Levenberg-Marquardt\n",
      "evaluate LM solutions\n",
      "LM solution evaluted\n",
      "- Geostat. inversion at iteration 3 is 17 sec\n",
      "== iteration 3 summary ==\n",
      "= objective function is 9.724962e+03, relative L2-norm diff btw sol 2 and sol 3 is 0.0980887\n",
      "= obs. RMSE is 8.62026, obs. normalized RMSE is 17.2405\n",
      "- save results in text at iteration 3\n",
      "***** Iteration 4 ******\n",
      "computed Jacobian-Matrix products in 15.008369 secs\n",
      "solve saddle point (co-kriging) systems with Levenberg-Marquardt\n",
      "evaluate LM solutions\n",
      "LM solution evaluted\n",
      "- Geostat. inversion at iteration 4 is 19 sec\n",
      "== iteration 4 summary ==\n",
      "= objective function is 8.630104e+03, relative L2-norm diff btw sol 3 and sol 4 is 0.0806607\n",
      "= obs. RMSE is 8.07269, obs. normalized RMSE is 16.1454\n",
      "- save results in text at iteration 4\n",
      "***** Iteration 5 ******\n",
      "computed Jacobian-Matrix products in 15.017259 secs\n",
      "solve saddle point (co-kriging) systems with Levenberg-Marquardt\n",
      "evaluate LM solutions\n",
      "LM solution evaluted\n",
      "- Geostat. inversion at iteration 5 is 19 sec\n",
      "== iteration 5 summary ==\n",
      "= objective function is 8.059067e+03, relative L2-norm diff btw sol 4 and sol 5 is 0.0434286\n",
      "= obs. RMSE is 7.76762, obs. normalized RMSE is 15.5352\n",
      "- save results in text at iteration 5\n",
      "***** Iteration 6 ******\n",
      "computed Jacobian-Matrix products in 16.199456 secs\n",
      "solve saddle point (co-kriging) systems with Levenberg-Marquardt\n",
      "evaluate LM solutions\n",
      "LM solution evaluted\n",
      "- Geostat. inversion at iteration 6 is 20 sec\n",
      "== iteration 6 summary ==\n",
      "= objective function is 7.857050e+03, relative L2-norm diff btw sol 5 and sol 6 is 0.0167759\n",
      "= obs. RMSE is 7.6554, obs. normalized RMSE is 15.3108\n",
      "- save results in text at iteration 6\n",
      "***** Iteration 7 ******\n",
      "computed Jacobian-Matrix products in 15.148167 secs\n",
      "solve saddle point (co-kriging) systems with Levenberg-Marquardt\n",
      "evaluate LM solutions\n",
      "LM solution evaluted\n",
      "- Geostat. inversion at iteration 7 is 19 sec\n",
      "== iteration 7 summary ==\n",
      "= objective function is 7.782566e+03, relative L2-norm diff btw sol 6 and sol 7 is 0.0066367\n",
      "= obs. RMSE is 7.61329, obs. normalized RMSE is 15.2266\n",
      "- save results in text at iteration 7\n",
      "start direct posterior variance computation - this option works for O(nobs) ~ 100\n",
      "0-th element evaluated\n",
      "1000-th element evaluated\n",
      "2000-th element evaluated\n",
      "3000-th element evaluated\n",
      "4000-th element evaluated\n",
      "5000-th element evaluated\n",
      "6000-th element evaluated\n",
      "7000-th element evaluated\n",
      "8000-th element evaluated\n",
      "9000-th element evaluated\n",
      "10000-th element evaluated\n",
      "11000-th element evaluated\n",
      "12000-th element evaluated\n",
      "13000-th element evaluated\n",
      "14000-th element evaluated\n",
      "15000-th element evaluated\n",
      "16000-th element evaluated\n",
      "17000-th element evaluated\n",
      "18000-th element evaluated\n",
      "19000-th element evaluated\n",
      "posterior diag. computed in 1.147131 secs\n",
      "------------ Inversion Summary ---------------------------\n",
      "** Found solution at iteration 7\n",
      "** Solution obs. RMSE 7.61329 , initial obs. RMSE 11.1308, where RMSE = (norm(obs. diff.)/sqrt(nobs)), Solution obs. nRMSE 15.2266, init. obs. nRMSE 22.2616\n",
      "** Final objective function value is 7.782566e+03\n",
      "** Final predictive model checking Q2, cR is 3.510466e+01, 9.509455e+01\n",
      "** Total elapsed time is 158.691979 secs\n",
      "----------------------------------------------------------\n"
     ]
    }
   ],
   "source": [
    "s_hat, simul_obs, post_diagv, iter_best = prob.Run()"
   ]
  },
  {
   "cell_type": "code",
   "execution_count": null,
   "metadata": {},
   "outputs": [],
   "source": [
    "# plot observations \n",
    "observations = np.loadtxt(os.path.join(\".\", \"Flo_py_wrkspace\", '{}.hob.out'.format('mf')), skiprows=1, usecols=[0,1])      # this block extracts observation data at each well field and determines what the maximum residual at any of the given points is\n",
    "comp_obs = np.ravel(np.split(observations, 2, 1)[0]) # the computed hed values at the obspts\n",
    "obs_obs = np.ravel(np.split(observations, 2, 1)[1]) # the observed hed values at the obspts\n",
    "\n",
    "# note positive residuals means model is calculating too high negative is model calculates too low \n",
    "residuals = []\n",
    "for idx, i in enumerate(observations):   \n",
    "    r = observations[idx][0]-observations[idx][1]\n",
    "    residuals.append(r)\n",
    "\n",
    "Howd_we_do = pd.DataFrame({\"Obs_hed_m\":obs_obs,\"Comp_hed_m\":comp_obs,\"Residual_m\":residuals})\n",
    "\n",
    "fig = plt.figure(figsize=(4,4))\n",
    "plt.title('Observed. vs Simulated.')\n",
    "plt.plot(Howd_we_do[\"Obs_hed_m\"], Howd_we_do[\"Comp_hed_m\"], '.')\n",
    "#plt.axis('equal')\n",
    "#plt.axis('square')\n",
    "plt.xlabel(\"Obs. head [m]\")\n",
    "plt.ylabel('Sim. head [m]')\n",
    "plt.ylim(0,30)\n",
    "plt.xlim(0,30)\n",
    "\n",
    "plt.plot([0,20,30],[0,20,30], color= \"grey\")\n",
    "plt.tight_layout()\n",
    "\n",
    "\n",
    "plt.show()\n",
    "\n",
    "me = np.mean(Howd_we_do.Residual_m)\n",
    "mea = np.mean(np.abs(Howd_we_do.Residual_m))\n",
    "rmse = np.sqrt(np.mean(Howd_we_do.Residual_m**2))\n",
    "print ('Mean Error: {:.2f}\\nMean Absolute Error: {:.2f}\\nRMS Error: {:.2f}'.format(me, mea, rmse))"
   ]
  },
  {
   "cell_type": "code",
   "execution_count": 42,
   "metadata": {},
   "outputs": [],
   "source": []
  },
  {
   "cell_type": "code",
   "execution_count": 39,
   "metadata": {},
   "outputs": [
    {
     "data": {
      "image/png": "[encoded data removed]",
      "text/plain": [
       "<Figure size 720x360 with 2 Axes>"
      ]
     },
     "metadata": {
      "needs_background": "light"
     },
     "output_type": "display_data"
    }
   ],
   "source": [
    "# plot the HK field\n",
    "s_hat3d = s_hat.reshape(nlay, nrow, ncol)\n",
    "s_hat2d = s_hat3d[0,:,:]\n",
    "\n",
    "minv = s_hat.min()\n",
    "maxv = s_hat.max()\n",
    "\n",
    "fig, axes = plt.subplots(1, 1, figsize=(10, 5))\n",
    "im1 = axes.pcolormesh(XX, YY, s_hat2d, vmin=minv, vmax=maxv, cmap=plt.get_cmap('jet'))\n",
    "axes.set_title('(b) Estimate', loc='left')\n",
    "axes.set_xlabel('x (m)')\n",
    "axes.set_aspect('equal')\n",
    "axes.axis([XX.min(), XX.max(), YY.min(), YY.max()])\n",
    "from mpl_toolkits.axes_grid1 import make_axes_locatable\n",
    "divider = make_axes_locatable(axes)\n",
    "cbar_ax = divider.append_axes(\"right\", size=\"5%\", pad=0.1)\n",
    "fig.colorbar(im1, cax=cbar_ax)\n",
    "plt.show()"
   ]
  },
  {
   "cell_type": "code",
   "execution_count": 68,
   "metadata": {},
   "outputs": [],
   "source": [
    "# just for now export the HK array to a txt \n",
    "\n",
    "s_hat_adjusted = s_hat3d+3.27\n",
    "np.savetxt(os.path.join(\".\", \"Flo_py_wrkspace\",'Txt_inputs',  \"s_hat_adjusted.txt\"), s_hat_adjusted[0])"
   ]
  },
  {
   "cell_type": "code",
   "execution_count": 69,
   "metadata": {},
   "outputs": [],
   "source": []
  },
  {
   "cell_type": "code",
   "execution_count": 27,
   "metadata": {},
   "outputs": [
    {
     "data": {
      "image/png": "[encoded data removed]",
      "text/plain": [
       "<Figure size 288x288 with 1 Axes>"
      ]
     },
     "metadata": {
      "needs_background": "light"
     },
     "output_type": "display_data"
    },
    {
     "name": "stdout",
     "output_type": "stream",
     "text": [
      "Mean Error: -2.42\n",
      "Mean Absolute Error: 5.02\n",
      "RMS Error: 10.03\n"
     ]
    }
   ],
   "source": [
    "# plot observations \n",
    "observations = np.loadtxt(os.path.join(\".\", \"Flo_py_wrkspace\", '{}.hob.out'.format('mf')), skiprows=1, usecols=[0,1])      # this block extracts observation data at each well field and determines what the maximum residual at any of the given points is\n",
    "comp_obs = np.ravel(np.split(observations, 2, 1)[0]) # the computed hed values at the obspts\n",
    "obs_obs = np.ravel(np.split(observations, 2, 1)[1]) # the observed hed values at the obspts\n",
    "\n",
    "# note positive residuals means model is calculating too high negative is model calculates too low \n",
    "residuals = []\n",
    "for idx, i in enumerate(observations):   \n",
    "    r = observations[idx][0]-observations[idx][1]\n",
    "    residuals.append(r)\n",
    "\n",
    "Howd_we_do = pd.DataFrame({\"Obs_hed_m\":obs_obs,\"Comp_hed_m\":comp_obs,\"Residual_m\":residuals})\n",
    "\n",
    "fig = plt.figure(figsize=(4,4))\n",
    "plt.title('Observed. vs Simulated.')\n",
    "plt.plot(Howd_we_do[\"Obs_hed_m\"], Howd_we_do[\"Comp_hed_m\"], '.')\n",
    "#plt.axis('equal')\n",
    "#plt.axis('square')\n",
    "plt.xlabel(\"Obs. head [m]\")\n",
    "plt.ylabel('Sim. head [m]')\n",
    "plt.ylim(0,30)\n",
    "plt.xlim(0,30)\n",
    "\n",
    "plt.plot([0,20,30],[0,20,30], color= \"grey\")\n",
    "plt.tight_layout()\n",
    "\n",
    "\n",
    "plt.show()\n",
    "\n",
    "me = np.mean(Howd_we_do.Residual_m)\n",
    "mea = np.mean(np.abs(Howd_we_do.Residual_m))\n",
    "rmse = np.sqrt(np.mean(Howd_we_do.Residual_m**2))\n",
    "print ('Mean Error: {:.2f}\\nMean Absolute Error: {:.2f}\\nRMS Error: {:.2f}'.format(me, mea, rmse))"
   ]
  },
  {
   "cell_type": "code",
   "execution_count": null,
   "metadata": {},
   "outputs": [],
   "source": []
  },
  {
   "cell_type": "code",
   "execution_count": null,
   "metadata": {},
   "outputs": [],
   "source": []
  },
  {
   "cell_type": "code",
   "execution_count": null,
   "metadata": {},
   "outputs": [],
   "source": []
  },
  {
   "cell_type": "code",
   "execution_count": null,
   "metadata": {},
   "outputs": [],
   "source": []
  },
  {
   "cell_type": "code",
   "execution_count": null,
   "metadata": {},
   "outputs": [],
   "source": []
  },
  {
   "cell_type": "code",
   "execution_count": null,
   "metadata": {},
   "outputs": [],
   "source": []
  },
  {
   "cell_type": "code",
   "execution_count": null,
   "metadata": {},
   "outputs": [],
   "source": []
  },
  {
   "cell_type": "code",
   "execution_count": null,
   "metadata": {},
   "outputs": [],
   "source": []
  }
 ],
 "metadata": {
  "kernelspec": {
   "display_name": "Python 3",
   "language": "python",
   "name": "python3"
  },
  "language_info": {
   "codemirror_mode": {
    "name": "ipython",
    "version": 3
   },
   "file_extension": ".py",
   "mimetype": "text/x-python",
   "name": "python",
   "nbconvert_exporter": "python",
   "pygments_lexer": "ipython3",
   "version": "3.7.3"
  }
 },
 "nbformat": 4,
 "nbformat_minor": 2
}
